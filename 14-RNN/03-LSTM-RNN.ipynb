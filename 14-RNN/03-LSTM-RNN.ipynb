{
 "cells": [
  {
   "cell_type": "code",
   "execution_count": null,
   "metadata": {},
   "outputs": [],
   "source": []
  },
  {
   "cell_type": "code",
   "execution_count": 1,
   "metadata": {},
   "outputs": [
    {
     "name": "stderr",
     "output_type": "stream",
     "text": [
      "2025-03-17 17:03:46.495059: I tensorflow/core/platform/cpu_feature_guard.cc:210] This TensorFlow binary is optimized to use available CPU instructions in performance-critical operations.\n",
      "To enable the following instructions: AVX2 FMA, in other operations, rebuild TensorFlow with the appropriate compiler flags.\n",
      "2025-03-17 17:04:01.743674: W tensorflow/core/framework/local_rendezvous.cc:404] Local rendezvous is aborting with status: OUT_OF_RANGE: End of sequence\n",
      "2025-03-17 17:04:09.669199: W tensorflow/core/framework/local_rendezvous.cc:404] Local rendezvous is aborting with status: OUT_OF_RANGE: End of sequence\n"
     ]
    },
    {
     "name": "stdout",
     "output_type": "stream",
     "text": [
      "Epoch 1/10\n"
     ]
    },
    {
     "name": "stderr",
     "output_type": "stream",
     "text": [
      "/Users/tkmagesh77/Documents/Training/Nutanix-Intermediate-ML-Mar-2025/int_ml_env/lib/python3.12/site-packages/keras/src/layers/core/embedding.py:90: UserWarning: Argument `input_length` is deprecated. Just remove it.\n",
      "  warnings.warn(\n"
     ]
    },
    {
     "name": "stdout",
     "output_type": "stream",
     "text": [
      "\u001b[1m782/782\u001b[0m \u001b[32m━━━━━━━━━━━━━━━━━━━━\u001b[0m\u001b[37m\u001b[0m \u001b[1m106s\u001b[0m 131ms/step - accuracy: 0.5247 - loss: 0.6899 - val_accuracy: 0.5000 - val_loss: 0.6989\n",
      "Epoch 2/10\n",
      "\u001b[1m782/782\u001b[0m \u001b[32m━━━━━━━━━━━━━━━━━━━━\u001b[0m\u001b[37m\u001b[0m \u001b[1m104s\u001b[0m 133ms/step - accuracy: 0.5784 - loss: 0.6670 - val_accuracy: 0.7745 - val_loss: 0.5191\n",
      "Epoch 3/10\n",
      "\u001b[1m782/782\u001b[0m \u001b[32m━━━━━━━━━━━━━━━━━━━━\u001b[0m\u001b[37m\u001b[0m \u001b[1m106s\u001b[0m 136ms/step - accuracy: 0.8470 - loss: 0.3846 - val_accuracy: 0.8540 - val_loss: 0.3524\n",
      "Epoch 4/10\n",
      "\u001b[1m782/782\u001b[0m \u001b[32m━━━━━━━━━━━━━━━━━━━━\u001b[0m\u001b[37m\u001b[0m \u001b[1m102s\u001b[0m 130ms/step - accuracy: 0.9141 - loss: 0.2360 - val_accuracy: 0.8395 - val_loss: 0.4002\n",
      "Epoch 5/10\n",
      "\u001b[1m782/782\u001b[0m \u001b[32m━━━━━━━━━━━━━━━━━━━━\u001b[0m\u001b[37m\u001b[0m \u001b[1m105s\u001b[0m 134ms/step - accuracy: 0.9452 - loss: 0.1672 - val_accuracy: 0.8456 - val_loss: 0.4443\n",
      "Epoch 6/10\n",
      "\u001b[1m782/782\u001b[0m \u001b[32m━━━━━━━━━━━━━━━━━━━━\u001b[0m\u001b[37m\u001b[0m \u001b[1m122s\u001b[0m 156ms/step - accuracy: 0.9676 - loss: 0.1130 - val_accuracy: 0.8432 - val_loss: 0.4407\n",
      "Epoch 7/10\n",
      "\u001b[1m782/782\u001b[0m \u001b[32m━━━━━━━━━━━━━━━━━━━━\u001b[0m\u001b[37m\u001b[0m \u001b[1m119s\u001b[0m 153ms/step - accuracy: 0.9806 - loss: 0.0761 - val_accuracy: 0.8414 - val_loss: 0.5392\n",
      "Epoch 8/10\n",
      "\u001b[1m782/782\u001b[0m \u001b[32m━━━━━━━━━━━━━━━━━━━━\u001b[0m\u001b[37m\u001b[0m \u001b[1m124s\u001b[0m 158ms/step - accuracy: 0.9868 - loss: 0.0529 - val_accuracy: 0.8416 - val_loss: 0.5771\n",
      "Epoch 9/10\n",
      "\u001b[1m782/782\u001b[0m \u001b[32m━━━━━━━━━━━━━━━━━━━━\u001b[0m\u001b[37m\u001b[0m \u001b[1m93s\u001b[0m 119ms/step - accuracy: 0.9921 - loss: 0.0359 - val_accuracy: 0.8371 - val_loss: 0.6190\n",
      "Epoch 10/10\n",
      "\u001b[1m782/782\u001b[0m \u001b[32m━━━━━━━━━━━━━━━━━━━━\u001b[0m\u001b[37m\u001b[0m \u001b[1m79s\u001b[0m 101ms/step - accuracy: 0.9929 - loss: 0.0339 - val_accuracy: 0.8321 - val_loss: 0.7212\n",
      "\u001b[1m782/782\u001b[0m \u001b[32m━━━━━━━━━━━━━━━━━━━━\u001b[0m\u001b[37m\u001b[0m \u001b[1m19s\u001b[0m 25ms/step - accuracy: 0.8309 - loss: 0.7300\n",
      "Test Accuracy: 0.8321\n",
      "\u001b[1m1/1\u001b[0m \u001b[32m━━━━━━━━━━━━━━━━━━━━\u001b[0m\u001b[37m\u001b[0m \u001b[1m0s\u001b[0m 361ms/step\n",
      "Review: The movie was fantastic! I loved it. → Sentiment: Positive\n",
      "Review: It was a terrible film, I hated it. → Sentiment: Negative\n"
     ]
    }
   ],
   "source": [
    "import tensorflow as tf\n",
    "import tensorflow_datasets as tfds\n",
    "from tensorflow.keras.models import Sequential\n",
    "from tensorflow.keras.layers import Embedding, LSTM, Dense\n",
    "from tensorflow.keras.preprocessing.sequence import pad_sequences\n",
    "\n",
    "# Load IMDb dataset\n",
    "dataset, info = tfds.load(\"imdb_reviews\", split=[\"train\", \"test\"], as_supervised=True, with_info=True)\n",
    "\n",
    "# Convert dataset to lists\n",
    "train_data, test_data = dataset\n",
    "train_sentences, train_labels = [], []\n",
    "test_sentences, test_labels = [], []\n",
    "\n",
    "for text, label in train_data:\n",
    "    train_sentences.append(str(text.numpy().decode(\"utf-8\")))\n",
    "    train_labels.append(label.numpy())\n",
    "\n",
    "for text, label in test_data:\n",
    "    test_sentences.append(str(text.numpy().decode(\"utf-8\")))\n",
    "    test_labels.append(label.numpy())\n",
    "\n",
    "# Tokenization and Padding\n",
    "vocab_size = 10000  # Only keep the top 10,000 most frequent words\n",
    "max_length = 200  # Maximum length of input sequences\n",
    "\n",
    "tokenizer = tf.keras.preprocessing.text.Tokenizer(num_words=vocab_size, oov_token=\"<OOV>\")\n",
    "tokenizer.fit_on_texts(train_sentences)\n",
    "\n",
    "X_train = tokenizer.texts_to_sequences(train_sentences)\n",
    "X_test = tokenizer.texts_to_sequences(test_sentences)\n",
    "\n",
    "X_train = pad_sequences(X_train, maxlen=max_length, padding=\"post\", truncating=\"post\")\n",
    "X_test = pad_sequences(X_test, maxlen=max_length, padding=\"post\", truncating=\"post\")\n",
    "\n",
    "y_train = tf.convert_to_tensor(train_labels)\n",
    "y_test = tf.convert_to_tensor(test_labels)\n",
    "\n",
    "# Define LSTM Model\n",
    "model = Sequential([\n",
    "    Embedding(input_dim=vocab_size, output_dim=64, input_length=max_length),  # Word Embedding Layer\n",
    "    LSTM(64, return_sequences=False),  # LSTM Layer with 64 units\n",
    "    Dense(1, activation=\"sigmoid\")  # Output layer (binary classification)\n",
    "])\n",
    "\n",
    "# Compile the model\n",
    "model.compile(optimizer=\"adam\", loss=\"binary_crossentropy\", metrics=[\"accuracy\"])\n",
    "\n",
    "# Train the model\n",
    "model.fit(X_train, y_train, epochs=10, batch_size=32, validation_data=(X_test, y_test))\n",
    "\n",
    "# Evaluate the model\n",
    "loss, accuracy = model.evaluate(X_test, y_test)\n",
    "print(f\"Test Accuracy: {accuracy:.4f}\")\n",
    "\n",
    "# Make Predictions\n",
    "sample_text = [\"The movie was fantastic! I loved it.\", \"It was a terrible film, I hated it.\"]\n",
    "sample_sequences = tokenizer.texts_to_sequences(sample_text)\n",
    "sample_padded = pad_sequences(sample_sequences, maxlen=max_length, padding=\"post\", truncating=\"post\")\n",
    "\n",
    "predictions = model.predict(sample_padded)\n",
    "predicted_labels = [\"Positive\" if p > 0.5 else \"Negative\" for p in predictions]\n",
    "\n",
    "for text, label in zip(sample_text, predicted_labels):\n",
    "    print(f\"Review: {text} → Sentiment: {label}\")\n"
   ]
  }
 ],
 "metadata": {
  "kernelspec": {
   "display_name": "nutanix_int_ml_kernel",
   "language": "python",
   "name": "nutanix_int_ml_kernel"
  }
 },
 "nbformat": 4,
 "nbformat_minor": 2
}
