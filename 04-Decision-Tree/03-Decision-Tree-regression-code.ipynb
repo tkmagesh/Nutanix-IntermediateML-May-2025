{
 "cells": [
  {
   "cell_type": "code",
   "execution_count": null,
   "metadata": {},
   "outputs": [],
   "source": [
    "import numpy as np\n",
    "import pandas as pd\n",
    "import matplotlib.pyplot as plt\n",
    "import seaborn as sns\n",
    "from sklearn import datasets\n",
    "from sklearn.model_selection import train_test_split\n",
    "from sklearn.tree import DecisionTreeRegressor, plot_tree\n",
    "from sklearn.metrics import mean_squared_error, mean_absolute_error, r2_score\n",
    "\n",
    "# Step 1: Load the Dataset (Boston Housing Dataset)\n",
    "boston = datasets.fetch_california_housing()\n",
    "df = pd.DataFrame(boston.data, columns=boston.feature_names)\n",
    "df['target'] = boston.target\n",
    "\n",
    "# Step 2: Exploratory Data Analysis (EDA)\n",
    "print(\"First 5 rows of dataset:\")\n",
    "print(df.head())\n",
    "\n",
    "print(\"\\nDataset Summary:\")\n",
    "print(df.describe())\n",
    "\n",
    "# Correlation Heatmap\n",
    "plt.figure(figsize=(8, 6))\n",
    "sns.heatmap(df.corr(), annot=True, cmap='coolwarm', linewidths=0.5)\n",
    "plt.title(\"Feature Correlation Heatmap\")\n",
    "plt.show()\n",
    "\n",
    "# Step 3: Splitting the Dataset into Train and Test\n",
    "X = df.drop(columns=['target'])\n",
    "y = df['target']\n",
    "X_train, X_test, y_train, y_test = train_test_split(X, y, test_size=0.2, random_state=42)\n",
    "\n",
    "# Step 4: Train Decision Tree Regressor\n",
    "dt_regressor = DecisionTreeRegressor(criterion='squared_error', max_depth=5, random_state=42)\n",
    "dt_regressor.fit(X_train, y_train)\n",
    "\n",
    "# Step 5: Visualizing the Decision Tree\n",
    "plt.figure(figsize=(12, 8))\n",
    "plot_tree(dt_regressor, feature_names=boston.feature_names, filled=True)\n",
    "plt.title(\"Decision Tree Regression Structure\")\n",
    "plt.show()\n",
    "\n",
    "# Step 6: Model Evaluation\n",
    "y_pred = dt_regressor.predict(X_test)\n",
    "print(\"Accuracy metrics on test data\")\n",
    "print(\"\\nMean Squared Error (MSE):\", mean_squared_error(y_test, y_pred))\n",
    "print(\"Mean Absolute Error (MAE):\", mean_absolute_error(y_test, y_pred))\n",
    "print(\"R-squared Score (R2):\", r2_score(y_test, y_pred))\n"
   ]
  },
  {
   "cell_type": "markdown",
   "metadata": {},
   "source": [
    "### Overfitting & Underfitting"
   ]
  },
  {
   "cell_type": "code",
   "execution_count": null,
   "metadata": {},
   "outputs": [],
   "source": [
    "# Prediction on test data\n",
    "y_test_pred = dt_regressor.predict(X_test)\n",
    "print(\"Accuracy metrics on test data\")\n",
    "print(\"\\nMean Squared Error (MSE):\", mean_squared_error(y_test, y_test_pred))\n",
    "print(\"Mean Absolute Error (MAE):\", mean_absolute_error(y_test, y_test_pred))\n",
    "print(\"R-squared Score (R2):\", r2_score(y_test, y_test_pred))\n"
   ]
  },
  {
   "cell_type": "code",
   "execution_count": null,
   "metadata": {},
   "outputs": [],
   "source": [
    "# Prediction on training data\n",
    "y_train_pred = dt_regressor.predict(X_train)\n",
    "print(\"Accuracy metrics on training data\")\n",
    "print(\"\\nMean Squared Error (MSE):\", mean_squared_error(y_train, y_train_pred))\n",
    "print(\"Mean Absolute Error (MAE):\", mean_absolute_error(y_train, y_train_pred))\n",
    "print(\"R-squared Score (R2):\", r2_score(y_train, y_train_pred))\n"
   ]
  }
 ],
 "metadata": {
  "kernelspec": {
   "display_name": "ML_Trng_WS",
   "language": "python",
   "name": "ml_trng_ws"
  }
 },
 "nbformat": 4,
 "nbformat_minor": 2
}
