{
 "cells": [
  {
   "cell_type": "code",
   "execution_count": 1,
   "metadata": {},
   "outputs": [
    {
     "name": "stdout",
     "output_type": "stream",
     "text": [
      "Single Decision Tree:\n",
      "Training Accuracy: 0.9583\n",
      "Test Accuracy: 1.0000\n",
      "\n",
      "Random Forest (10 trees):\n",
      "Training Accuracy: 0.9833\n",
      "Test Accuracy: 1.0000\n",
      "\n",
      "Feature Importances:\n",
      "sepal length (cm): 0.1434\n",
      "sepal width (cm): 0.0230\n",
      "petal length (cm): 0.4207\n",
      "petal width (cm): 0.4129\n"
     ]
    }
   ],
   "source": [
    "import numpy as np\n",
    "from sklearn.datasets import load_iris\n",
    "from sklearn.model_selection import train_test_split\n",
    "from sklearn.tree import DecisionTreeClassifier\n",
    "from sklearn.ensemble import RandomForestClassifier\n",
    "from sklearn.metrics import accuracy_score\n",
    "\n",
    "# Load the iris dataset\n",
    "data = load_iris()\n",
    "X, y = data.data, data.target\n",
    "\n",
    "# Split into training and test sets\n",
    "X_train, X_test, y_train, y_test = train_test_split(X, y, test_size=0.2, random_state=42)\n",
    "\n",
    "# Single Decision Tree (for comparison)\n",
    "dt = DecisionTreeClassifier(max_depth=3, random_state=42)\n",
    "dt.fit(X_train, y_train)\n",
    "dt_train_pred = dt.predict(X_train)\n",
    "dt_test_pred = dt.predict(X_test)\n",
    "\n",
    "# Random Forest\n",
    "rf = RandomForestClassifier(n_estimators=10, max_depth=4, random_state=42)  # 100 trees\n",
    "\"\"\" \n",
    "n_estimators = Number of Decision Tress to build\n",
    "max_depth = max number of nodes\n",
    " \"\"\"\n",
    "rf.fit(X_train, y_train)\n",
    "rf_train_pred = rf.predict(X_train)\n",
    "rf_test_pred = rf.predict(X_test)\n",
    "\n",
    "# Accuracy\n",
    "dt_train_acc = accuracy_score(y_train, dt_train_pred)\n",
    "dt_test_acc = accuracy_score(y_test, dt_test_pred)\n",
    "rf_train_acc = accuracy_score(y_train, rf_train_pred)\n",
    "rf_test_acc = accuracy_score(y_test, rf_test_pred)\n",
    "\n",
    "# Print results\n",
    "print(\"Single Decision Tree:\")\n",
    "print(f\"Training Accuracy: {dt_train_acc:.4f}\")\n",
    "print(f\"Test Accuracy: {dt_test_acc:.4f}\\n\")\n",
    "\n",
    "print(\"Random Forest (10 trees):\")\n",
    "print(f\"Training Accuracy: {rf_train_acc:.4f}\")\n",
    "print(f\"Test Accuracy: {rf_test_acc:.4f}\")\n",
    "\n",
    "# Feature importance from Random Forest\n",
    "print(\"\\nFeature Importances:\")\n",
    "for name, importance in zip(data.feature_names, rf.feature_importances_):\n",
    "    print(f\"{name}: {importance:.4f}\")"
   ]
  }
 ],
 "metadata": {
  "kernelspec": {
   "display_name": "nutanix_int_ml_kernel",
   "language": "python",
   "name": "nutanix_int_ml_kernel"
  }
 },
 "nbformat": 4,
 "nbformat_minor": 2
}
