{
 "cells": [
  {
   "cell_type": "code",
   "execution_count": 1,
   "metadata": {},
   "outputs": [
    {
     "name": "stdout",
     "output_type": "stream",
     "text": [
      "OLS (No Regularization):\n",
      "Training R²: 0.5279\n",
      "Test R²: 0.4526\n",
      "Test MSE: 2900.1936\n",
      "\n",
      "Lasso Regression (alpha = 1.0):\n",
      "Training R²: 0.3646\n",
      "Test R²: 0.3576\n",
      "Test MSE: 3403.5757\n",
      "\n",
      "Sample Coefficients (First 5 Features):\n",
      "OLS: [  37.90402135 -241.96436231  542.42875852  347.70384391 -931.48884588]\n",
      "Lasso: [  0.          -0.         413.43184792  34.83051518   0.        ]\n"
     ]
    }
   ],
   "source": [
    "import numpy as np\n",
    "from sklearn.datasets import load_diabetes\n",
    "from sklearn.model_selection import train_test_split\n",
    "from sklearn.linear_model import LinearRegression, Lasso\n",
    "from sklearn.metrics import r2_score, mean_squared_error\n",
    "\n",
    "# Load the diabetes dataset\n",
    "data = load_diabetes()\n",
    "X, y = data.data, data.target\n",
    "\n",
    "# Split into training and test sets\n",
    "X_train, X_test, y_train, y_test = train_test_split(X, y, test_size=0.2, random_state=42)\n",
    "\n",
    "# Ordinary Least Squares (OLS) - No regularization\n",
    "ols = LinearRegression()\n",
    "ols.fit(X_train, y_train)\n",
    "\n",
    "# Predictions and performance\n",
    "ols_train_pred = ols.predict(X_train)\n",
    "ols_test_pred = ols.predict(X_test)\n",
    "\n",
    "ols_train_r2 = r2_score(y_train, ols_train_pred)\n",
    "ols_test_r2 = r2_score(y_test, ols_test_pred)\n",
    "ols_test_mse = mean_squared_error(y_test, ols_test_pred)\n",
    "\n",
    "# Lasso Regression (with alpha = 1.0)\n",
    "lasso = Lasso(alpha=1.0)\n",
    "lasso.fit(X_train, y_train)\n",
    "\n",
    "# Predictions and performance\n",
    "lasso_train_pred = lasso.predict(X_train)\n",
    "lasso_test_pred = lasso.predict(X_test)\n",
    "\n",
    "lasso_train_r2 = r2_score(y_train, lasso_train_pred)\n",
    "lasso_test_r2 = r2_score(y_test, lasso_test_pred)\n",
    "lasso_test_mse = mean_squared_error(y_test, lasso_test_pred)\n",
    "\n",
    "# Print results\n",
    "print(\"OLS (No Regularization):\")\n",
    "print(f\"Training R²: {ols_train_r2:.4f}\")\n",
    "print(f\"Test R²: {ols_test_r2:.4f}\")\n",
    "print(f\"Test MSE: {ols_test_mse:.4f}\\n\")\n",
    "\n",
    "print(\"Lasso Regression (alpha = 1.0):\")\n",
    "print(f\"Training R²: {lasso_train_r2:.4f}\")\n",
    "print(f\"Test R²: {lasso_test_r2:.4f}\")\n",
    "print(f\"Test MSE: {lasso_test_mse:.4f}\")\n",
    "\n",
    "# Compare coefficients\n",
    "print(\"\\nSample Coefficients (First 5 Features):\")\n",
    "print(f\"OLS: {ols.coef_[:5]}\")\n",
    "print(f\"Lasso: {lasso.coef_[:5]}\")"
   ]
  }
 ],
 "metadata": {
  "kernelspec": {
   "display_name": "nutanix_int_ml_kernel",
   "language": "python",
   "name": "nutanix_int_ml_kernel"
  }
 },
 "nbformat": 4,
 "nbformat_minor": 2
}
