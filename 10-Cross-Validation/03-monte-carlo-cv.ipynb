{
 "cells": [
  {
   "cell_type": "markdown",
   "metadata": {},
   "source": [
    "Monte Carlo Cross-Validation (MCCV), also known as repeated random subsampling, randomly splits the dataset into training and testing sets multiple times. The model is trained and evaluated on different splits, and performance metrics are averaged. Unlike k-fold, the number of splits and train-test proportions are independent, allowing more flexibility but potentially overlapping test sets."
   ]
  },
  {
   "cell_type": "code",
   "execution_count": 1,
   "metadata": {},
   "outputs": [
    {
     "name": "stdout",
     "output_type": "stream",
     "text": [
      "Accuracy for each iteration: [1.         0.96666667 0.96666667 0.93333333 0.93333333 1.\n",
      " 0.9        0.96666667 1.         0.93333333]\n",
      "Mean accuracy: 0.9600\n"
     ]
    }
   ],
   "source": [
    "from sklearn.datasets import load_iris\n",
    "from sklearn.model_selection import ShuffleSplit, cross_val_score\n",
    "from sklearn.ensemble import RandomForestClassifier\n",
    "import numpy as np\n",
    "\n",
    "# Load the Iris dataset\n",
    "iris = load_iris()\n",
    "X, y = iris.data, iris.target\n",
    "\n",
    "# Define the Monte Carlo cross-validator (ShuffleSplit) with 10 iterations\n",
    "mc_cv = ShuffleSplit(n_splits=10, test_size=0.2, random_state=42)\n",
    "\n",
    "# Initialize a RandomForest classifier\n",
    "model = RandomForestClassifier(n_estimators=100, random_state=42)\n",
    "\n",
    "# Perform Monte Carlo cross-validation and compute accuracy for each iteration\n",
    "scores = cross_val_score(model, X, y, cv=mc_cv, scoring='accuracy')\n",
    "\n",
    "# Print accuracy scores for each iteration and mean accuracy\n",
    "print(f\"Accuracy for each iteration: {scores}\")\n",
    "print(f\"Mean accuracy: {np.mean(scores):.4f}\")\n"
   ]
  }
 ],
 "metadata": {
  "kernelspec": {
   "display_name": "ml_int",
   "language": "python",
   "name": "ml_int"
  }
 },
 "nbformat": 4,
 "nbformat_minor": 2
}
