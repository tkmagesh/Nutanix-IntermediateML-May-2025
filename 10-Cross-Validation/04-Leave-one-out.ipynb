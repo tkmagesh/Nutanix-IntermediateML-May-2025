{
 "cells": [
  {
   "cell_type": "markdown",
   "metadata": {},
   "source": [
    "Leave-One-Out Cross-Validation (LOOCV) is a special case of k-fold cross-validation where *k* equals the number of data points. The model is trained on *n-1* samples and tested on the single remaining sample, repeating this for each data point. LOOCV provides an unbiased estimate of model performance but is computationally expensive for large datasets."
   ]
  },
  {
   "cell_type": "code",
   "execution_count": 1,
   "metadata": {},
   "outputs": [
    {
     "name": "stdout",
     "output_type": "stream",
     "text": [
      "MSE for each fold: [3.3881317890172014e-21, 182250000.0, 182250000.0, 900000000.0000035, 900000000.0000035]\n",
      "Average MSE across all folds: 432900000.00\n"
     ]
    }
   ],
   "source": [
    "import numpy as np\n",
    "from sklearn.linear_model import LinearRegression\n",
    "from sklearn.model_selection import LeaveOneOut\n",
    "from sklearn.metrics import mean_squared_error\n",
    "\n",
    "# Sample dataset\n",
    "X = np.array([[1500, 3], [1200, 2], [1800, 4], [1100, 2], [2000, 5]])  # Features: Size, Bedrooms\n",
    "y = np.array([300000, 250000, 350000, 220000, 400000])  # Target: Price\n",
    "\n",
    "# Initialize the model and LOOCV\n",
    "model = LinearRegression()\n",
    "loo = LeaveOneOut()\n",
    "\n",
    "# Array to store the errors\n",
    "mse_scores = []\n",
    "\n",
    "# Perform LOOCV\n",
    "for train_index, test_index in loo.split(X):\n",
    "    # Split the data into training and test sets\n",
    "    X_train, X_test = X[train_index], X[test_index]\n",
    "    y_train, y_test = y[train_index], y[test_index]\n",
    "    \n",
    "    # Train the model\n",
    "    model.fit(X_train, y_train)\n",
    "    \n",
    "    # Make prediction on the test sample\n",
    "    y_pred = model.predict(X_test)\n",
    "    \n",
    "    # Compute the Mean Squared Error for this iteration\n",
    "    mse = mean_squared_error(y_test, y_pred)\n",
    "    mse_scores.append(mse)\n",
    "\n",
    "# Compute the average MSE across all iterations\n",
    "average_mse = np.mean(mse_scores)\n",
    "\n",
    "print(f\"MSE for each fold: {mse_scores}\")\n",
    "print(f\"Average MSE across all folds: {average_mse:.2f}\")"
   ]
  },
  {
   "cell_type": "code",
   "execution_count": 2,
   "metadata": {},
   "outputs": [
    {
     "name": "stdout",
     "output_type": "stream",
     "text": [
      "Average MSE across all folds: 3001.75\n"
     ]
    }
   ],
   "source": [
    "import numpy as np\n",
    "from sklearn.datasets import load_diabetes\n",
    "from sklearn.linear_model import LinearRegression\n",
    "from sklearn.model_selection import LeaveOneOut\n",
    "from sklearn.metrics import mean_squared_error\n",
    "\n",
    "# Load the diabetes dataset\n",
    "data = load_diabetes()\n",
    "X = data.data  # Features\n",
    "y = data.target  # Target: diabetes progression\n",
    "\n",
    "# Initialize the model and LOOCV\n",
    "model = LinearRegression()\n",
    "loo = LeaveOneOut()\n",
    "\n",
    "# Array to store the errors\n",
    "mse_scores = []\n",
    "\n",
    "# Perform LOOCV\n",
    "for train_index, test_index in loo.split(X):\n",
    "    # Split the data into training and test sets\n",
    "    X_train, X_test = X[train_index], X[test_index]\n",
    "    y_train, y_test = y[train_index], y[test_index]\n",
    "    \n",
    "    # Train the model\n",
    "    model.fit(X_train, y_train)\n",
    "    \n",
    "    # Make prediction on the test sample\n",
    "    y_pred = model.predict(X_test)\n",
    "    \n",
    "    # Compute the Mean Squared Error for this iteration\n",
    "    mse = mean_squared_error(y_test, y_pred)\n",
    "    mse_scores.append(mse)\n",
    "\n",
    "# Compute the average MSE across all iterations\n",
    "average_mse = np.mean(mse_scores)\n",
    "\n",
    "print(f\"Average MSE across all folds: {average_mse:.2f}\")"
   ]
  }
 ],
 "metadata": {
  "kernelspec": {
   "display_name": "ml_int",
   "language": "python",
   "name": "ml_int"
  }
 },
 "nbformat": 4,
 "nbformat_minor": 2
}
