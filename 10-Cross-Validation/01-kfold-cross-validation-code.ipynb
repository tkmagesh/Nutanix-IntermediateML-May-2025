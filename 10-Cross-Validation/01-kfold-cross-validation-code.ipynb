{
 "cells": [
  {
   "cell_type": "markdown",
   "metadata": {},
   "source": [
    "K-fold cross-validation is a technique to evaluate a machine learning model's performance by splitting the dataset into *k* subsets (folds). The model is trained on *k-1* folds and tested on the remaining fold, repeating this *k* times with different test folds. The final performance is averaged across all *k* iterations, reducing overfitting and improving reliability."
   ]
  },
  {
   "cell_type": "code",
   "execution_count": 1,
   "metadata": {},
   "outputs": [
    {
     "name": "stdout",
     "output_type": "stream",
     "text": [
      "Accuracy for each fold: [1.         1.         0.94444444 0.97142857 1.        ]\n",
      "Mean accuracy: 0.9832\n"
     ]
    }
   ],
   "source": [
    "from sklearn.datasets import load_wine\n",
    "from sklearn.model_selection import KFold, cross_val_score\n",
    "from sklearn.ensemble import RandomForestClassifier\n",
    "import numpy as np\n",
    "\n",
    "# Load the Iris dataset\n",
    "iris = load_wine() # classification\n",
    "\n",
    "X, y = iris.data, iris.target\n",
    "\n",
    "# Define the K-Fold cross-validator with 5 folds\n",
    "kf = KFold(n_splits=5, shuffle=True, random_state=42)\n",
    "\n",
    "# Initialize a RandomForest classifier\n",
    "model = RandomForestClassifier(n_estimators=100, random_state=42)\n",
    "\n",
    "# Perform cross-validation and compute accuracy for each fold\n",
    "scores = cross_val_score(model, X, y, cv=kf, scoring='accuracy')\n",
    "\n",
    "# Print accuracy scores for each fold and mean accuracy\n",
    "print(f\"Accuracy for each fold: {scores}\")\n",
    "print(f\"Mean accuracy: {np.mean(scores):.4f}\")\n"
   ]
  }
 ],
 "metadata": {
  "kernelspec": {
   "display_name": "ML_Trng_WS",
   "language": "python",
   "name": "ml_trng_ws"
  },
  "language_info": {
   "codemirror_mode": {
    "name": "ipython",
    "version": 3
   },
   "file_extension": ".py",
   "mimetype": "text/x-python",
   "name": "python",
   "nbconvert_exporter": "python",
   "pygments_lexer": "ipython3",
   "version": "3.12.8"
  }
 },
 "nbformat": 4,
 "nbformat_minor": 2
}
