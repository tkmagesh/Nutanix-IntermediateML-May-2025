{
 "cells": [
  {
   "cell_type": "markdown",
   "metadata": {},
   "source": [
    "Stratified K-Fold Cross-Validation is a variation of k-fold cross-validation that preserves the class distribution in each fold, ensuring that each subset has a similar proportion of each class as the original dataset. This is especially useful for imbalanced datasets to get more reliable model evaluation."
   ]
  },
  {
   "cell_type": "code",
   "execution_count": 1,
   "metadata": {},
   "outputs": [
    {
     "name": "stdout",
     "output_type": "stream",
     "text": [
      "Fold 1 Accuracy: 1.0000\n",
      "Fold 2 Accuracy: 0.9667\n",
      "Fold 3 Accuracy: 0.9000\n",
      "Fold 4 Accuracy: 1.0000\n",
      "Fold 5 Accuracy: 0.9000\n",
      "\n",
      "Average Accuracy across 5 folds: 0.9533\n",
      "Standard Deviation of Accuracy: 0.0452\n"
     ]
    }
   ],
   "source": [
    " \n",
    "\n",
    " # Import necessary libraries\n",
    "import numpy as np\n",
    "from sklearn.datasets import load_iris\n",
    "from sklearn.model_selection import StratifiedKFold\n",
    "from sklearn.preprocessing import StandardScaler\n",
    "from sklearn.metrics import accuracy_score\n",
    "from sklearn.tree import DecisionTreeClassifier\n",
    "# Load the Iris dataset\n",
    "iris = load_iris()\n",
    "X = iris.data  # Features\n",
    "y = iris.target  # Target labels\n",
    "\n",
    "# Initialize the scaler and model\n",
    "scaler = StandardScaler()\n",
    "model = DecisionTreeClassifier(criterion='gini', random_state=42)\n",
    "\n",
    "# Initialize StratifiedKFold with 5 folds\n",
    "skf = StratifiedKFold(n_splits=5, shuffle=True, random_state=42)\n",
    "\n",
    "# Lists to store accuracy scores for each fold\n",
    "fold_accuracies = []\n",
    "\n",
    "# Perform Stratified K-Fold Cross-Validation\n",
    "fold_no = 1\n",
    "for train_index, test_index in skf.split(X, y):\n",
    "    # Split data into training and testing sets\n",
    "    X_train, X_test = X[train_index], X[test_index]\n",
    "    y_train, y_test = y[train_index], y[test_index]\n",
    "    \n",
    "    # Scale the features\n",
    "    X_train_scaled = scaler.fit_transform(X_train)\n",
    "    X_test_scaled = scaler.transform(X_test)\n",
    "    \n",
    "    # Train the model\n",
    "    model.fit(X_train_scaled, y_train)\n",
    "    \n",
    "    # Make predictions\n",
    "    y_pred = model.predict(X_test_scaled)\n",
    "    \n",
    "    # Calculate accuracy for this fold\n",
    "    accuracy = accuracy_score(y_test, y_pred)\n",
    "    fold_accuracies.append(accuracy)\n",
    "    \n",
    "    print(f'Fold {fold_no} Accuracy: {accuracy:.4f}')\n",
    "    fold_no += 1\n",
    "\n",
    "# Calculate and print the average accuracy across all folds\n",
    "average_accuracy = np.mean(fold_accuracies)\n",
    "print(f'\\nAverage Accuracy across {skf.n_splits} folds: {average_accuracy:.4f}')\n",
    "print(f'Standard Deviation of Accuracy: {np.std(fold_accuracies):.4f}')"
   ]
  },
  {
   "cell_type": "code",
   "execution_count": 2,
   "metadata": {},
   "outputs": [
    {
     "name": "stdout",
     "output_type": "stream",
     "text": [
      "Accuracy for each fold: [0.97222222 1.         0.97222222 0.94285714 1.        ]\n",
      "Mean accuracy: 0.9775\n"
     ]
    }
   ],
   "source": [
    "from sklearn.datasets import load_wine\n",
    "from sklearn.model_selection import StratifiedKFold, cross_val_score\n",
    "from sklearn.ensemble import RandomForestClassifier\n",
    "import numpy as np\n",
    "\n",
    "# Load the Iris dataset\n",
    "iris = load_wine()\n",
    "X, y = iris.data, iris.target\n",
    "\n",
    "# Define the Stratified K-Fold cross-validator with 5 folds\n",
    "skf = StratifiedKFold(n_splits=5, shuffle=True, random_state=42)\n",
    "\n",
    "# Initialize a RandomForest classifier\n",
    "model = RandomForestClassifier(n_estimators=100, random_state=42)\n",
    "\n",
    "# Perform stratified cross-validation and compute accuracy for each fold\n",
    "scores = cross_val_score(model, X, y, cv=skf, scoring='accuracy')\n",
    "\n",
    "# Print accuracy scores for each fold and mean accuracy\n",
    "print(f\"Accuracy for each fold: {scores}\")\n",
    "print(f\"Mean accuracy: {np.mean(scores):.4f}\")"
   ]
  }
 ],
 "metadata": {
  "kernelspec": {
   "display_name": "ml_int",
   "language": "python",
   "name": "ml_int"
  }
 },
 "nbformat": 4,
 "nbformat_minor": 2
}
