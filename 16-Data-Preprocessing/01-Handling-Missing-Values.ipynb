{
 "cells": [
  {
   "cell_type": "markdown",
   "metadata": {},
   "source": [
    "**Types of Missing Data**\n",
    "- MCAR (Missing completely at random)\n",
    "- MAR (Missing at random)\n",
    "- MNAR (Missing Not At Random)"
   ]
  },
  {
   "cell_type": "markdown",
   "metadata": {},
   "source": [
    "## Removing missing data"
   ]
  },
  {
   "cell_type": "code",
   "execution_count": 13,
   "metadata": {},
   "outputs": [
    {
     "data": {
      "text/html": [
       "<div>\n",
       "<style scoped>\n",
       "    .dataframe tbody tr th:only-of-type {\n",
       "        vertical-align: middle;\n",
       "    }\n",
       "\n",
       "    .dataframe tbody tr th {\n",
       "        vertical-align: top;\n",
       "    }\n",
       "\n",
       "    .dataframe thead th {\n",
       "        text-align: right;\n",
       "    }\n",
       "</style>\n",
       "<table border=\"1\" class=\"dataframe\">\n",
       "  <thead>\n",
       "    <tr style=\"text-align: right;\">\n",
       "      <th></th>\n",
       "      <th>0</th>\n",
       "      <th>1</th>\n",
       "      <th>2</th>\n",
       "      <th>3</th>\n",
       "    </tr>\n",
       "  </thead>\n",
       "  <tbody>\n",
       "    <tr>\n",
       "      <th>0</th>\n",
       "      <td>1.0</td>\n",
       "      <td>2.0</td>\n",
       "      <td>NaN</td>\n",
       "      <td>4.0</td>\n",
       "    </tr>\n",
       "    <tr>\n",
       "      <th>1</th>\n",
       "      <td>5.0</td>\n",
       "      <td>NaN</td>\n",
       "      <td>7.0</td>\n",
       "      <td>8.0</td>\n",
       "    </tr>\n",
       "    <tr>\n",
       "      <th>2</th>\n",
       "      <td>9.0</td>\n",
       "      <td>10.0</td>\n",
       "      <td>11.0</td>\n",
       "      <td>12.0</td>\n",
       "    </tr>\n",
       "  </tbody>\n",
       "</table>\n",
       "</div>"
      ],
      "text/plain": [
       "     0     1     2     3\n",
       "0  1.0   2.0   NaN   4.0\n",
       "1  5.0   NaN   7.0   8.0\n",
       "2  9.0  10.0  11.0  12.0"
      ]
     },
     "metadata": {},
     "output_type": "display_data"
    },
    {
     "name": "stdout",
     "output_type": "stream",
     "text": [
      "[[ 1.  4.]\n",
      " [ 5.  8.]\n",
      " [ 9. 12.]]\n"
     ]
    }
   ],
   "source": [
    "# Drop columns with missing data\n",
    "import numpy as np\n",
    "import pandas as pd\n",
    "from IPython.display import display, HTML\n",
    "data = np.array([\n",
    "    [1, 2, np.nan, 4],\n",
    "    [5, np.nan, 7, 8],\n",
    "    [9, 10, 11, 12]]\n",
    "    )\n",
    "df = pd.DataFrame(data)\n",
    "display(df)\n",
    "\n",
    "\n",
    "# Drop columns with any NaN values\n",
    "mask = ~np.isnan(data).any(axis=0)\n",
    "data_cleaned = data[:, mask]\n",
    "\n",
    "print(data_cleaned)"
   ]
  },
  {
   "cell_type": "code",
   "execution_count": 14,
   "metadata": {},
   "outputs": [
    {
     "name": "stdout",
     "output_type": "stream",
     "text": [
      "[[ 9. 10. 11. 12.]]\n"
     ]
    }
   ],
   "source": [
    "# Drop rows with missing data\n",
    "import numpy as np\n",
    "data = np.array([\n",
    "    [1, 2, np.nan, 4],\n",
    "    [5, np.nan, 7, 8],\n",
    "    [9, 10, 11, 12]]\n",
    "    )\n",
    "\n",
    "# Drop rows with any NaN values\n",
    "mask = ~np.isnan(data).any(axis=1)\n",
    "data_cleaned = data[mask]\n",
    "\n",
    "print(data_cleaned)"
   ]
  },
  {
   "cell_type": "markdown",
   "metadata": {},
   "source": [
    "## Imputation"
   ]
  },
  {
   "cell_type": "code",
   "execution_count": 15,
   "metadata": {},
   "outputs": [
    {
     "name": "stdout",
     "output_type": "stream",
     "text": [
      "Dataset with missing values:\n",
      "   sepal length (cm)  sepal width (cm)  petal length (cm)  petal width (cm)\n",
      "0                5.1               3.5                1.4               0.2\n",
      "1                4.9               3.0                1.4               0.2\n",
      "2                4.7               3.2                1.3               0.2\n",
      "3                4.6               3.1                1.5               0.2\n",
      "4                5.0               3.6                1.4               0.2\n",
      "5                5.4               3.9                1.7               0.4\n",
      "6                NaN               3.4                1.4               0.3\n",
      "7                5.0               3.4                1.5               0.2\n",
      "8                4.4               2.9                1.4               0.2\n",
      "9                4.9               3.1                1.5               0.1\n"
     ]
    }
   ],
   "source": [
    "# Setup\n",
    "import numpy as np\n",
    "import pandas as pd\n",
    "from sklearn.datasets import load_iris\n",
    "\n",
    "# Load iris dataset\n",
    "iris = load_iris()\n",
    "data = pd.DataFrame(data=iris.data, columns=iris.feature_names)\n",
    "\n",
    "# Introduce missing values randomly (10% missing in 'sepal length (cm)')\n",
    "np.random.seed(42)\n",
    "mask = np.random.rand(len(data)) < 0.1\n",
    "data.loc[mask, 'sepal length (cm)'] = np.nan\n",
    "\n",
    "print(\"Dataset with missing values:\")\n",
    "print(data.head(10))"
   ]
  },
  {
   "cell_type": "code",
   "execution_count": 16,
   "metadata": {},
   "outputs": [
    {
     "name": "stdout",
     "output_type": "stream",
     "text": [
      "After mean imputation:\n",
      "   sepal length (cm)  sepal width (cm)  petal length (cm)  petal width (cm)\n",
      "0           5.100000               3.5                1.4               0.2\n",
      "1           4.900000               3.0                1.4               0.2\n",
      "2           4.700000               3.2                1.3               0.2\n",
      "3           4.600000               3.1                1.5               0.2\n",
      "4           5.000000               3.6                1.4               0.2\n",
      "5           5.400000               3.9                1.7               0.4\n",
      "6           5.843182               3.4                1.4               0.3\n",
      "7           5.000000               3.4                1.5               0.2\n",
      "8           4.400000               2.9                1.4               0.2\n",
      "9           4.900000               3.1                1.5               0.1\n"
     ]
    }
   ],
   "source": [
    "from sklearn.impute import SimpleImputer\n",
    "\n",
    "# Mean imputation for 'sepal length (cm)'\n",
    "imputer = SimpleImputer(strategy='mean')\n",
    "data_mean_imputed = data.copy()\n",
    "data_mean_imputed['sepal length (cm)'] = imputer.fit_transform(data[['sepal length (cm)']])\n",
    "print(\"After mean imputation:\")\n",
    "print(data_mean_imputed.head(10))"
   ]
  },
  {
   "cell_type": "code",
   "execution_count": 17,
   "metadata": {},
   "outputs": [
    {
     "name": "stdout",
     "output_type": "stream",
     "text": [
      "After constant imputation (0):\n",
      "   sepal length (cm)  sepal width (cm)  petal length (cm)  petal width (cm)\n",
      "0                5.1               3.5                1.4               0.2\n",
      "1                4.9               3.0                1.4               0.2\n",
      "2                4.7               3.2                1.3               0.2\n",
      "3                4.6               3.1                1.5               0.2\n",
      "4                5.0               3.6                1.4               0.2\n",
      "5                5.4               3.9                1.7               0.4\n",
      "6                0.0               3.4                1.4               0.3\n",
      "7                5.0               3.4                1.5               0.2\n",
      "8                4.4               2.9                1.4               0.2\n",
      "9                4.9               3.1                1.5               0.1\n"
     ]
    }
   ],
   "source": [
    "# Fill missing values with a constant\n",
    "imputer = SimpleImputer(strategy='constant', fill_value=0)\n",
    "data_const_imputed = data.copy()\n",
    "data_const_imputed['sepal length (cm)'] = imputer.fit_transform(data[['sepal length (cm)']])\n",
    "print(\"After constant imputation (0):\")\n",
    "print(data_const_imputed.head(10))"
   ]
  },
  {
   "cell_type": "markdown",
   "metadata": {},
   "source": [
    "## Model based imputation\n",
    "### Regression Imputation\n",
    "Use a regression model to predict missing values"
   ]
  },
  {
   "cell_type": "code",
   "execution_count": null,
   "metadata": {},
   "outputs": [
    {
     "name": "stdout",
     "output_type": "stream",
     "text": [
      "Dataset with missing values:\n",
      "   sepal length (cm)  sepal width (cm)  petal length (cm)  petal width (cm)\n",
      "0                5.1               3.5                1.4               0.2\n",
      "1                4.9               3.0                1.4               0.2\n",
      "2                4.7               3.2                1.3               0.2\n",
      "3                4.6               3.1                1.5               0.2\n",
      "4                5.0               3.6                1.4               0.2\n",
      "5                5.4               3.9                1.7               0.4\n",
      "6                NaN               3.4                1.4               0.3\n",
      "7                5.0               3.4                1.5               0.2\n",
      "8                4.4               2.9                1.4               0.2\n",
      "9                4.9               3.1                1.5               0.1\n",
      "After regression imputation:\n",
      "   sepal length (cm)  sepal width (cm)  petal length (cm)  petal width (cm)\n",
      "0           5.100000               3.5                1.4               0.2\n",
      "1           4.900000               3.0                1.4               0.2\n",
      "2           4.700000               3.2                1.3               0.2\n",
      "3           4.600000               3.1                1.5               0.2\n",
      "4           5.000000               3.6                1.4               0.2\n",
      "5           5.400000               3.9                1.7               0.4\n",
      "6           4.920661               3.4                1.4               0.3\n",
      "7           5.000000               3.4                1.5               0.2\n",
      "8           4.400000               2.9                1.4               0.2\n",
      "9           4.900000               3.1                1.5               0.1\n"
     ]
    }
   ],
   "source": [
    "# Load iris dataset\n",
    "iris = load_iris()\n",
    "data = pd.DataFrame(data=iris.data, columns=iris.feature_names)\n",
    "\n",
    "# Introduce missing values randomly (10% missing in 'sepal length (cm)')\n",
    "np.random.seed(42)\n",
    "mask = np.random.rand(len(data)) < 0.1\n",
    "data.loc[mask, 'sepal length (cm)'] = np.nan\n",
    "\n",
    "print(\"Dataset with missing values:\")\n",
    "print(data.head(10))\n",
    "\n",
    "# Split data into complete and missing\n",
    "complete_data = data.dropna() \n",
    "missing_data = data[data['sepal length (cm)'].isna()]\n",
    "\n",
    "# Train regression model\n",
    "X_train = complete_data.drop(columns=['sepal length (cm)'])\n",
    "y_train = complete_data['sepal length (cm)']\n",
    "model = LinearRegression()\n",
    "model.fit(X_train, y_train)\n",
    "\n",
    "# Predict missing values\n",
    "X_missing = missing_data.drop(columns=['sepal length (cm)'])\n",
    "predicted_values = model.predict(X_missing)\n",
    "\n",
    "# Fill in predictions\n",
    "data_regression_imputed = data.copy()\n",
    "data_regression_imputed.loc[data['sepal length (cm)'].isna(), 'sepal length (cm)'] = predicted_values\n",
    "print(\"After regression imputation:\")\n",
    "print(data_regression_imputed.head(10))"
   ]
  }
 ],
 "metadata": {
  "kernelspec": {
   "display_name": "nutanix_int_ml_kernel",
   "language": "python",
   "name": "nutanix_int_ml_kernel"
  },
  "language_info": {
   "codemirror_mode": {
    "name": "ipython",
    "version": 3
   },
   "file_extension": ".py",
   "mimetype": "text/x-python",
   "name": "python",
   "nbconvert_exporter": "python",
   "pygments_lexer": "ipython3",
   "version": "3.12.8"
  }
 },
 "nbformat": 4,
 "nbformat_minor": 2
}
