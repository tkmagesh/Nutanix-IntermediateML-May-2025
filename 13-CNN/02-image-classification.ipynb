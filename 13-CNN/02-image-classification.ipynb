{
 "cells": [
  {
   "cell_type": "code",
   "execution_count": 1,
   "metadata": {},
   "outputs": [
    {
     "name": "stderr",
     "output_type": "stream",
     "text": [
      "2025-03-17 16:23:14.682224: I tensorflow/core/platform/cpu_feature_guard.cc:210] This TensorFlow binary is optimized to use available CPU instructions in performance-critical operations.\n",
      "To enable the following instructions: AVX2 FMA, in other operations, rebuild TensorFlow with the appropriate compiler flags.\n"
     ]
    }
   ],
   "source": [
    "# Load and preprocess the MNIST dataset\n",
    "import tensorflow as tf\n",
    "import numpy as np\n",
    "import matplotlib.pyplot as plt\n",
    "\n",
    "# Load MNIST dataset (handwritten digits 0-9)\n",
    "(X_train, y_train), (X_test, y_test) = tf.keras.datasets.mnist.load_data()\n",
    "\n",
    "# Normalize the images (convert pixel values from 0-255 to 0-1)\n",
    "X_train = X_train / 255.0\n",
    "X_test = X_test / 255.0\n",
    "\n",
    "# Reshape to add a single channel (grayscale images)\n",
    "X_train = X_train.reshape(-1, 28, 28, 1)\n",
    "X_test = X_test.reshape(-1, 28, 28, 1)\n"
   ]
  },
  {
   "cell_type": "code",
   "execution_count": 2,
   "metadata": {},
   "outputs": [
    {
     "name": "stderr",
     "output_type": "stream",
     "text": [
      "/Users/tkmagesh77/Documents/Training/Nutanix-Intermediate-ML-Mar-2025/int_ml_env/lib/python3.12/site-packages/keras/src/layers/convolutional/base_conv.py:107: UserWarning: Do not pass an `input_shape`/`input_dim` argument to a layer. When using Sequential models, prefer using an `Input(shape)` object as the first layer in the model instead.\n",
      "  super().__init__(activity_regularizer=activity_regularizer, **kwargs)\n"
     ]
    },
    {
     "name": "stdout",
     "output_type": "stream",
     "text": [
      "Epoch 1/5\n",
      "\u001b[1m157/157\u001b[0m \u001b[32m━━━━━━━━━━━━━━━━━━━━\u001b[0m\u001b[37m\u001b[0m \u001b[1m10s\u001b[0m 52ms/step - accuracy: 0.7148 - loss: 0.9609 - val_accuracy: 0.9440 - val_loss: 0.2028\n",
      "Epoch 2/5\n",
      "\u001b[1m157/157\u001b[0m \u001b[32m━━━━━━━━━━━━━━━━━━━━\u001b[0m\u001b[37m\u001b[0m \u001b[1m7s\u001b[0m 47ms/step - accuracy: 0.9573 - loss: 0.1463 - val_accuracy: 0.9575 - val_loss: 0.1485\n",
      "Epoch 3/5\n",
      "\u001b[1m157/157\u001b[0m \u001b[32m━━━━━━━━━━━━━━━━━━━━\u001b[0m\u001b[37m\u001b[0m \u001b[1m7s\u001b[0m 44ms/step - accuracy: 0.9737 - loss: 0.0894 - val_accuracy: 0.9535 - val_loss: 0.1357\n",
      "Epoch 4/5\n",
      "\u001b[1m157/157\u001b[0m \u001b[32m━━━━━━━━━━━━━━━━━━━━\u001b[0m\u001b[37m\u001b[0m \u001b[1m7s\u001b[0m 43ms/step - accuracy: 0.9809 - loss: 0.0659 - val_accuracy: 0.9605 - val_loss: 0.1335\n",
      "Epoch 5/5\n",
      "\u001b[1m157/157\u001b[0m \u001b[32m━━━━━━━━━━━━━━━━━━━━\u001b[0m\u001b[37m\u001b[0m \u001b[1m7s\u001b[0m 45ms/step - accuracy: 0.9854 - loss: 0.0517 - val_accuracy: 0.9695 - val_loss: 0.0917\n"
     ]
    },
    {
     "data": {
      "text/plain": [
       "<keras.src.callbacks.history.History at 0x142866c00>"
      ]
     },
     "execution_count": 2,
     "metadata": {},
     "output_type": "execute_result"
    }
   ],
   "source": [
    "# Define a CNN model\n",
    "model = tf.keras.Sequential([\n",
    "    tf.keras.layers.Conv2D(32, (3,3), activation='relu', input_shape=(28,28,1)), # 32 filters of 3x3\n",
    "    tf.keras.layers.MaxPooling2D((2,2)),  \n",
    "    tf.keras.layers.Conv2D(64, (3,3), activation='relu'),\n",
    "    tf.keras.layers.MaxPooling2D((2,2)),\n",
    "    tf.keras.layers.Flatten(),\n",
    "    tf.keras.layers.Dense(128, activation='relu'),\n",
    "    tf.keras.layers.Dense(10, activation='softmax')  # 10 output classes (digits 0-9)\n",
    "])\n",
    "\n",
    "# Compile the model\n",
    "model.compile(optimizer='adam', loss='sparse_categorical_crossentropy', metrics=['accuracy'])\n",
    "\n",
    "# Train the model on MNIST (using a subset for quick training)\n",
    "model.fit(X_train[:10000], y_train[:10000], epochs=5, batch_size=64, validation_data=(X_test[:2000], y_test[:2000]))\n"
   ]
  },
  {
   "cell_type": "code",
   "execution_count": 3,
   "metadata": {},
   "outputs": [
    {
     "data": {
      "image/png": "[encoded data removed]",
      "text/plain": [
       "<Figure size 1200x600 with 32 Axes>"
      ]
     },
     "metadata": {},
     "output_type": "display_data"
    }
   ],
   "source": [
    "#Extract and visualize filters\n",
    "# Get the first Conv2D layer\n",
    "conv_layer = model.layers[0]  # First convolutional layer\n",
    "\n",
    "# Get the filters (weights)\n",
    "filters, biases = conv_layer.get_weights()\n",
    "\n",
    "# Normalize filter values for visualization\n",
    "filters_min = filters.min()\n",
    "filters_max = filters.max()\n",
    "filters = (filters - filters_min) / (filters_max - filters_min)\n",
    "\n",
    "# Plot all 32 filters\n",
    "fig, axes = plt.subplots(4, 8, figsize=(12, 6))\n",
    "for i in range(32):  # 32 filters\n",
    "    ax = axes[i // 8, i % 8]\n",
    "    ax.imshow(filters[:, :, 0, i], cmap='gray')  # Show as grayscale\n",
    "    ax.axis('off')\n",
    "\n",
    "plt.suptitle(\"Learned Filters (Kernels) from First Conv2D Layer\", fontsize=14)\n",
    "plt.show()\n"
   ]
  },
  {
   "cell_type": "code",
   "execution_count": 4,
   "metadata": {},
   "outputs": [
    {
     "name": "stdout",
     "output_type": "stream",
     "text": [
      "\u001b[1m1/1\u001b[0m \u001b[32m━━━━━━━━━━━━━━━━━━━━\u001b[0m\u001b[37m\u001b[0m \u001b[1m0s\u001b[0m 124ms/step\n",
      "Predicted Label: 7\n"
     ]
    },
    {
     "data": {
      "image/png": "[encoded data removed]",
      "text/plain": [
       "<Figure size 640x480 with 1 Axes>"
      ]
     },
     "metadata": {},
     "output_type": "display_data"
    }
   ],
   "source": [
    "# Predict on a sample image\n",
    "sample_image = X_test[0].reshape(1, 28, 28, 1)\n",
    "prediction = model.predict(sample_image)\n",
    "\n",
    "predicted_label = np.argmax(prediction)\n",
    "print(f\"Predicted Label: {predicted_label}\")\n",
    "\n",
    "# Display image\n",
    "plt.imshow(X_test[0].reshape(28, 28), cmap='gray')\n",
    "plt.title(f\"Predicted: {predicted_label}\")\n",
    "plt.axis('off')\n",
    "plt.show()\n"
   ]
  },
  {
   "cell_type": "code",
   "execution_count": 5,
   "metadata": {},
   "outputs": [
    {
     "name": "stdout",
     "output_type": "stream",
     "text": [
      "[[9.8624227e-08 4.5791957e-09 6.7109040e-06 3.3478270e-04 1.1565542e-10\n",
      "  1.5257740e-08 1.3176262e-13 9.9965823e-01 4.6891937e-08 2.4154193e-07]]\n"
     ]
    }
   ],
   "source": [
    "print(prediction)"
   ]
  }
 ],
 "metadata": {
  "kernelspec": {
   "display_name": "nutanix_int_ml_kernel",
   "language": "python",
   "name": "nutanix_int_ml_kernel"
  }
 },
 "nbformat": 4,
 "nbformat_minor": 2
}
