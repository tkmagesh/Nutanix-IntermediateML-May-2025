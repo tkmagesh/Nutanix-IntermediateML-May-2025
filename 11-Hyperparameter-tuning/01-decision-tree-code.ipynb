{
 "cells": [
  {
   "cell_type": "code",
   "execution_count": 3,
   "metadata": {},
   "outputs": [],
   "source": [
    "import numpy as np\n",
    "from sklearn.datasets import load_wine\n",
    "from sklearn.model_selection import train_test_split, GridSearchCV\n",
    "from sklearn.tree import DecisionTreeClassifier\n",
    "from sklearn.metrics import accuracy_score\n",
    "\n",
    "# Load the wine dataset\n",
    "data = load_wine()\n",
    "X, y = data.data, data.target\n",
    "\n",
    "# Split into training and test sets\n",
    "X_train, X_test, y_train, y_test = train_test_split(X, y, test_size=0.2, random_state=42)\n"
   ]
  },
  {
   "cell_type": "code",
   "execution_count": 4,
   "metadata": {},
   "outputs": [],
   "source": [
    "# Before Tuning: Default Decision Tree\n",
    "dt_default = DecisionTreeClassifier(random_state=42)\n",
    "dt_default.fit(X_train, y_train)\n",
    "\n",
    "# Predictions\n",
    "default_train_pred = dt_default.predict(X_train)\n",
    "default_test_pred = dt_default.predict(X_test)\n",
    "\n",
    "# Accuracy\n",
    "default_train_acc = accuracy_score(y_train, default_train_pred)\n",
    "default_test_acc = accuracy_score(y_test, default_test_pred)\n"
   ]
  },
  {
   "cell_type": "code",
   "execution_count": 5,
   "metadata": {},
   "outputs": [],
   "source": [
    "# After Tuning: Hyperparameter Tuning with GridSearchCV\n",
    "param_grid = {\n",
    "    'max_depth': [3, 5, 7, None],              # Max tree depth\n",
    "    'min_samples_split': [2, 5, 10],           # Min samples to split a node\n",
    "    'min_samples_leaf': [1, 2, 4]              # Min samples in a leaf\n",
    "}\n",
    "\n",
    "dt = DecisionTreeClassifier(random_state=42)\n",
    "grid_search = GridSearchCV(dt, param_grid, cv=5, scoring='accuracy', n_jobs=-1)\n",
    "grid_search.fit(X_train, y_train)\n",
    "\n",
    "# Best model after tuning\n",
    "dt_tuned = grid_search.best_estimator_\n",
    "\n",
    "# Predictions\n",
    "tuned_train_pred = dt_tuned.predict(X_train)\n",
    "tuned_test_pred = dt_tuned.predict(X_test)\n",
    "\n",
    "# Accuracy\n",
    "tuned_train_acc = accuracy_score(y_train, tuned_train_pred)\n",
    "tuned_test_acc = accuracy_score(y_test, tuned_test_pred)"
   ]
  },
  {
   "cell_type": "code",
   "execution_count": 6,
   "metadata": {},
   "outputs": [
    {
     "name": "stdout",
     "output_type": "stream",
     "text": [
      "Before Tuning (Default Decision Tree):\n",
      "Training Accuracy: 1.0000\n",
      "Test Accuracy: 0.9444\n",
      "\n",
      "After Tuning (Tuned Decision Tree):\n",
      "Best Parameters: {'max_depth': 3, 'min_samples_leaf': 1, 'min_samples_split': 2}\n",
      "Training Accuracy: 0.9930\n",
      "Test Accuracy: 0.9444\n",
      "\n",
      "Default Tree Depth: 4\n",
      "Tuned Tree Depth: 3\n"
     ]
    }
   ],
   "source": [
    "# Print results\n",
    "print(\"Before Tuning (Default Decision Tree):\")\n",
    "print(f\"Training Accuracy: {default_train_acc:.4f}\")\n",
    "print(f\"Test Accuracy: {default_test_acc:.4f}\\n\")\n",
    "\n",
    "print(\"After Tuning (Tuned Decision Tree):\")\n",
    "print(f\"Best Parameters: {grid_search.best_params_}\")\n",
    "print(f\"Training Accuracy: {tuned_train_acc:.4f}\")\n",
    "print(f\"Test Accuracy: {tuned_test_acc:.4f}\")\n",
    "\n",
    "# Tree depth comparison\n",
    "print(f\"\\nDefault Tree Depth: {dt_default.tree_.max_depth}\")\n",
    "print(f\"Tuned Tree Depth: {dt_tuned.tree_.max_depth}\")"
   ]
  }
 ],
 "metadata": {
  "kernelspec": {
   "display_name": "ML_Trng_WS",
   "language": "python",
   "name": "ml_trng_ws"
  },
  "language_info": {
   "codemirror_mode": {
    "name": "ipython",
    "version": 3
   },
   "file_extension": ".py",
   "mimetype": "text/x-python",
   "name": "python",
   "nbconvert_exporter": "python",
   "pygments_lexer": "ipython3",
   "version": "3.12.8"
  }
 },
 "nbformat": 4,
 "nbformat_minor": 2
}
